{
 "cells": [
  {
   "cell_type": "markdown",
   "id": "082d8e63",
   "metadata": {},
   "source": [
    "# In this ML Analysis, we will be using Support Vector Machine Supervised Algorithm to recognize hand written digits from built-in dataset.\n",
    "# We will use scikit-learn package."
   ]
  },
  {
   "cell_type": "markdown",
   "id": "069ece11",
   "metadata": {},
   "source": [
    "## Importing Support Vector Machine (SVM) from scikit-learn "
   ]
  },
  {
   "cell_type": "code",
   "execution_count": 1,
   "id": "3624d9eb",
   "metadata": {},
   "outputs": [],
   "source": [
    "from sklearn import svm \n",
    "from sklearn.metrics import accuracy_score\n",
    "svc = svm.SVC(gamma=0.00001,C=100.)"
   ]
  },
  {
   "cell_type": "markdown",
   "id": "f1f7541e",
   "metadata": {},
   "source": [
    "## Loading the digits dataset from scikit-learn"
   ]
  },
  {
   "cell_type": "code",
   "execution_count": 2,
   "id": "c79ff28a",
   "metadata": {},
   "outputs": [],
   "source": [
    "from sklearn import datasets \n",
    "digits = datasets.load_digits()"
   ]
  },
  {
   "cell_type": "markdown",
   "id": "fd53dac0",
   "metadata": {},
   "source": [
    "## Description of the digits dataset"
   ]
  },
  {
   "cell_type": "code",
   "execution_count": 3,
   "id": "41ef8c6a",
   "metadata": {
    "scrolled": false
   },
   "outputs": [
    {
     "name": "stdout",
     "output_type": "stream",
     "text": [
      ".. _digits_dataset:\n",
      "\n",
      "Optical recognition of handwritten digits dataset\n",
      "--------------------------------------------------\n",
      "\n",
      "**Data Set Characteristics:**\n",
      "\n",
      "    :Number of Instances: 1797\n",
      "    :Number of Attributes: 64\n",
      "    :Attribute Information: 8x8 image of integer pixels in the range 0..16.\n",
      "    :Missing Attribute Values: None\n",
      "    :Creator: E. Alpaydin (alpaydin '@' boun.edu.tr)\n",
      "    :Date: July; 1998\n",
      "\n",
      "This is a copy of the test set of the UCI ML hand-written digits datasets\n",
      "https://archive.ics.uci.edu/ml/datasets/Optical+Recognition+of+Handwritten+Digits\n",
      "\n",
      "The data set contains images of hand-written digits: 10 classes where\n",
      "each class refers to a digit.\n",
      "\n",
      "Preprocessing programs made available by NIST were used to extract\n",
      "normalized bitmaps of handwritten digits from a preprinted form. From a\n",
      "total of 43 people, 30 contributed to the training set and different 13\n",
      "to the test set. 32x32 bitmaps are divided into nonoverlapping blocks of\n",
      "4x4 and the number of on pixels are counted in each block. This generates\n",
      "an input matrix of 8x8 where each element is an integer in the range\n",
      "0..16. This reduces dimensionality and gives invariance to small\n",
      "distortions.\n",
      "\n",
      "For info on NIST preprocessing routines, see M. D. Garris, J. L. Blue, G.\n",
      "T. Candela, D. L. Dimmick, J. Geist, P. J. Grother, S. A. Janet, and C.\n",
      "L. Wilson, NIST Form-Based Handprint Recognition System, NISTIR 5469,\n",
      "1994.\n",
      "\n",
      ".. topic:: References\n",
      "\n",
      "  - C. Kaynak (1995) Methods of Combining Multiple Classifiers and Their\n",
      "    Applications to Handwritten Digit Recognition, MSc Thesis, Institute of\n",
      "    Graduate Studies in Science and Engineering, Bogazici University.\n",
      "  - E. Alpaydin, C. Kaynak (1998) Cascading Classifiers, Kybernetika.\n",
      "  - Ken Tang and Ponnuthurai N. Suganthan and Xi Yao and A. Kai Qin.\n",
      "    Linear dimensionalityreduction using relevance weighted LDA. School of\n",
      "    Electrical and Electronic Engineering Nanyang Technological University.\n",
      "    2005.\n",
      "  - Claudio Gentile. A New Approximate Maximal Margin Classification\n",
      "    Algorithm. NIPS. 2000.\n",
      "\n"
     ]
    }
   ],
   "source": [
    "print (digits.DESCR)"
   ]
  },
  {
   "cell_type": "markdown",
   "id": "eac2a1ff",
   "metadata": {},
   "source": [
    "## Loading image for digit 7 for manipulation"
   ]
  },
  {
   "cell_type": "code",
   "execution_count": 4,
   "id": "c024126d",
   "metadata": {
    "scrolled": false
   },
   "outputs": [
    {
     "data": {
      "text/plain": [
       "array([[ 0.,  0.,  7.,  8., 13., 16., 15.,  1.],\n",
       "       [ 0.,  0.,  7.,  7.,  4., 11., 12.,  0.],\n",
       "       [ 0.,  0.,  0.,  0.,  8., 13.,  1.,  0.],\n",
       "       [ 0.,  4.,  8.,  8., 15., 15.,  6.,  0.],\n",
       "       [ 0.,  2., 11., 15., 15.,  4.,  0.,  0.],\n",
       "       [ 0.,  0.,  0., 16.,  5.,  0.,  0.,  0.],\n",
       "       [ 0.,  0.,  9., 15.,  1.,  0.,  0.,  0.],\n",
       "       [ 0.,  0., 13.,  5.,  0.,  0.,  0.,  0.]])"
      ]
     },
     "execution_count": 4,
     "metadata": {},
     "output_type": "execute_result"
    }
   ],
   "source": [
    "digits.images[7]"
   ]
  },
  {
   "cell_type": "markdown",
   "id": "e3a66080",
   "metadata": {},
   "source": [
    "## Visualizing this image for digit 7 using matplotlib\n",
    "## imshow Display data as an image, i.e., on a 2D regular raster."
   ]
  },
  {
   "cell_type": "code",
   "execution_count": 5,
   "id": "b29f391b",
   "metadata": {
    "scrolled": true
   },
   "outputs": [
    {
     "data": {
      "image/png": "[encoded data removed]",
      "text/plain": [
       "<Figure size 432x288 with 1 Axes>"
      ]
     },
     "metadata": {
      "needs_background": "light"
     },
     "output_type": "display_data"
    }
   ],
   "source": [
    "import matplotlib.pyplot as plt \n",
    "plt.imshow(digits.images[7],cmap=plt.cm.gray_r,interpolation='nearest')\n",
    "plt.show()"
   ]
  },
  {
   "cell_type": "markdown",
   "id": "70a8fbaf",
   "metadata": {},
   "source": [
    "## The numerical values represented by images, i.e., the targets, are contained in the digit.target array"
   ]
  },
  {
   "cell_type": "code",
   "execution_count": 6,
   "id": "69b534fd",
   "metadata": {
    "scrolled": true
   },
   "outputs": [
    {
     "data": {
      "text/plain": [
       "array([0, 1, 2, ..., 8, 9, 8])"
      ]
     },
     "execution_count": 6,
     "metadata": {},
     "output_type": "execute_result"
    }
   ],
   "source": [
    "digits.target"
   ]
  },
  {
   "cell_type": "markdown",
   "id": "2ca7af30",
   "metadata": {},
   "source": [
    "## The size of the dataset consists of 1797 images. We can also see the total number of columns in the dataset"
   ]
  },
  {
   "cell_type": "code",
   "execution_count": 7,
   "id": "892f1881",
   "metadata": {},
   "outputs": [
    {
     "name": "stdout",
     "output_type": "stream",
     "text": [
      "(1797, 64)\n"
     ]
    }
   ],
   "source": [
    "print(digits.data.shape)"
   ]
  },
  {
   "cell_type": "code",
   "execution_count": 8,
   "id": "76d57f11",
   "metadata": {},
   "outputs": [
    {
     "data": {
      "text/plain": [
       "1797"
      ]
     },
     "execution_count": 8,
     "metadata": {},
     "output_type": "execute_result"
    }
   ],
   "source": [
    "digits.target.size"
   ]
  },
  {
   "cell_type": "markdown",
   "id": "927a1430",
   "metadata": {},
   "source": [
    "### We will use the first 1791 digits for training our machine\n",
    "\n",
    "### We will use the last 6 digits for testing i.e. as validation set, so below is a visualization of this set."
   ]
  },
  {
   "cell_type": "markdown",
   "id": "e974c8ab",
   "metadata": {},
   "source": [
    "### Our values for testing are: [4, 9, 0, 8, 9, 8]"
   ]
  },
  {
   "cell_type": "code",
   "execution_count": 9,
   "id": "8865ba69",
   "metadata": {},
   "outputs": [
    {
     "data": {
      "image/png": "[encoded data removed]",
      "text/plain": [
       "<Figure size 432x288 with 6 Axes>"
      ]
     },
     "metadata": {
      "needs_background": "light"
     },
     "output_type": "display_data"
    }
   ],
   "source": [
    "import matplotlib.pyplot as plt\n",
    "\n",
    "plt.subplot(321)\n",
    "plt.imshow(digits.images[1791], cmap=plt.cm.gray_r,\n",
    "interpolation='nearest')\n",
    "plt.subplot(322)\n",
    "plt.imshow(digits.images[1792], cmap=plt.cm.gray_r,\n",
    "interpolation='nearest')\n",
    "plt.subplot(323)\n",
    "plt.imshow(digits.images[1793], cmap=plt.cm.gray_r,\n",
    "interpolation='nearest')\n",
    "plt.subplot(324)\n",
    "plt.imshow(digits.images[1794], cmap=plt.cm.gray_r,\n",
    "interpolation='nearest')\n",
    "plt.subplot(325)\n",
    "plt.imshow(digits.images[1795], cmap=plt.cm.gray_r,\n",
    "interpolation='nearest')\n",
    "plt.subplot(326)\n",
    "plt.imshow(digits.images[1796], cmap=plt.cm.gray_r,\n",
    "interpolation='nearest')\n",
    "plt.show()"
   ]
  },
  {
   "cell_type": "markdown",
   "id": "b7afcdc5",
   "metadata": {},
   "source": [
    "## Now we are training our data on initial model"
   ]
  },
  {
   "cell_type": "code",
   "execution_count": 10,
   "id": "63c2d892",
   "metadata": {},
   "outputs": [],
   "source": [
    "main_data=digits['data']\n",
    "targets=digits['target']"
   ]
  },
  {
   "cell_type": "markdown",
   "id": "7d74445a",
   "metadata": {},
   "source": [
    "## Case 1: 1791 Training set, and 6 Test values"
   ]
  },
  {
   "cell_type": "markdown",
   "id": "52a714c3",
   "metadata": {},
   "source": [
    "## Simple training of data"
   ]
  },
  {
   "cell_type": "code",
   "execution_count": 11,
   "id": "3374db34",
   "metadata": {},
   "outputs": [],
   "source": [
    "svc.fit(digits.data[1:1791],digits.target[1:1791])\n",
    "prediction = svc.predict(main_data[1791:])"
   ]
  },
  {
   "cell_type": "markdown",
   "id": "6014d7a3",
   "metadata": {},
   "source": [
    "## As we can see, all 6 values from above were predicted correctly"
   ]
  },
  {
   "cell_type": "code",
   "execution_count": 12,
   "id": "bff96933",
   "metadata": {},
   "outputs": [
    {
     "name": "stdout",
     "output_type": "stream",
     "text": [
      "Predicted values:  [4 9 0 8 9 8]\n",
      "Actual values:  [4 9 0 8 9 8]\n",
      "Accuracy is:  100.0 %\n"
     ]
    }
   ],
   "source": [
    "print(\"Predicted values: \", prediction)\n",
    "print(\"Actual values: \", targets[1791:])\n",
    "ac_1 = accuracy_score(targets[1791:] , prediction)*100\n",
    "print(\"Accuracy is: \",ac_1,\"%\")"
   ]
  },
  {
   "cell_type": "markdown",
   "id": "01eef84f",
   "metadata": {},
   "source": [
    "### Our accuracy for 1791:6 division is 100%"
   ]
  },
  {
   "cell_type": "markdown",
   "id": "c229489f",
   "metadata": {},
   "source": [
    "## Modified training of data"
   ]
  },
  {
   "cell_type": "code",
   "execution_count": 13,
   "id": "02f221ef",
   "metadata": {},
   "outputs": [
    {
     "data": {
      "text/plain": [
       "SVC(C=100.0, gamma=0.001)"
      ]
     },
     "execution_count": 13,
     "metadata": {},
     "output_type": "execute_result"
    }
   ],
   "source": [
    "from sklearn.svm import SVC\n",
    "svc = SVC()\n",
    "SVC(C=100., cache_size=200,class_weight=None, coef0=0.0,degree=3,\n",
    "   gamma=0.001, kernel='rbf',max_iter=-1,probability=False,\n",
    "   random_state=None, shrinking=True, tol=0.001, verbose=False)\n",
    "svc = svm.SVC(gamma=0.001 , C=100.)\n",
    "svc.fit(main_data[:1791], targets[:1791])"
   ]
  },
  {
   "cell_type": "code",
   "execution_count": 14,
   "id": "3cb809c7",
   "metadata": {},
   "outputs": [
    {
     "name": "stdout",
     "output_type": "stream",
     "text": [
      "Predicted values:  [4 9 0 8 9 8]\n",
      "Actual values:  [4 9 0 8 9 8]\n",
      "Accuracy is:  100.0 %\n"
     ]
    }
   ],
   "source": [
    "print(\"Predicted values: \", prediction)\n",
    "print(\"Actual values: \", targets[1791:])\n",
    "print(\"Accuracy is: \",(accuracy_score(targets[1791:] , prediction)*100),\"%\")"
   ]
  },
  {
   "cell_type": "markdown",
   "id": "18553804",
   "metadata": {},
   "source": [
    "### Our accuracy for modified training is also 100%"
   ]
  },
  {
   "cell_type": "markdown",
   "id": "73e9547f",
   "metadata": {},
   "source": [
    "## Case 2: 75% values for training (1348), and 25% values for testing (449)"
   ]
  },
  {
   "cell_type": "markdown",
   "id": "43259f49",
   "metadata": {},
   "source": [
    "## Training of data"
   ]
  },
  {
   "cell_type": "code",
   "execution_count": 20,
   "id": "4b686b4f",
   "metadata": {},
   "outputs": [
    {
     "name": "stdout",
     "output_type": "stream",
     "text": [
      "Accuracy is:  96.88888888888889 %\n"
     ]
    }
   ],
   "source": [
    "svc.fit(main_data[:1347], targets[:1347])\n",
    "prediction = svc.predict(main_data[1347:])\n",
    "ac_2 = accuracy_score(targets[1347:] , prediction)*100\n",
    "print(\"Accuracy is: \", ac_2,\"%\")"
   ]
  },
  {
   "cell_type": "markdown",
   "id": "8230d1fd",
   "metadata": {},
   "source": [
    "### The accuracy for 75:25 division is 96.88 %"
   ]
  },
  {
   "cell_type": "markdown",
   "id": "4d100108",
   "metadata": {},
   "source": [
    "## Case 3: 50% values for training (899), and 50% values for testing (898)"
   ]
  },
  {
   "cell_type": "markdown",
   "id": "1efe98a2",
   "metadata": {},
   "source": [
    "# Training of data"
   ]
  },
  {
   "cell_type": "code",
   "execution_count": 21,
   "id": "6b7e21d8",
   "metadata": {},
   "outputs": [
    {
     "name": "stdout",
     "output_type": "stream",
     "text": [
      "Accuracy is:  96.99331848552339 %\n"
     ]
    }
   ],
   "source": [
    "svc.fit(main_data[:899], targets[:899])\n",
    "prediction = svc.predict(main_data[899:])\n",
    "ac_3 = accuracy_score(targets[899:] , prediction)*100\n",
    "print(\"Accuracy is: \", ac_3,\"%\")"
   ]
  },
  {
   "cell_type": "markdown",
   "id": "25cd1c02",
   "metadata": {},
   "source": [
    "### The accuracy for 50:50 division is 96.99 %"
   ]
  },
  {
   "cell_type": "markdown",
   "id": "57f12ada",
   "metadata": {},
   "source": [
    "## Case 4: 20% values for training (359), and 80% values for testing (1438)"
   ]
  },
  {
   "cell_type": "markdown",
   "id": "97705e10",
   "metadata": {},
   "source": [
    "# Training of data"
   ]
  },
  {
   "cell_type": "code",
   "execution_count": 22,
   "id": "cc2626b6",
   "metadata": {},
   "outputs": [
    {
     "name": "stdout",
     "output_type": "stream",
     "text": [
      "Accuracy is:  90.12517385257301 %\n"
     ]
    }
   ],
   "source": [
    "svc.fit(main_data[:359], targets[:359])\n",
    "prediction = svc.predict(main_data[359:])\n",
    "ac_4 = accuracy_score(targets[359:] , prediction)*100\n",
    "print(\"Accuracy is: \", ac_4,\"%\")"
   ]
  },
  {
   "cell_type": "markdown",
   "id": "8a02b9b4",
   "metadata": {},
   "source": [
    "### The accuracy for 80:20 division is 90.13 %"
   ]
  },
  {
   "cell_type": "markdown",
   "id": "6b3c6a02",
   "metadata": {},
   "source": [
    "## Case 5: 5% values for training (90), and 95% values for testing (1707)"
   ]
  },
  {
   "cell_type": "code",
   "execution_count": 23,
   "id": "642007b4",
   "metadata": {},
   "outputs": [
    {
     "name": "stdout",
     "output_type": "stream",
     "text": [
      "Accuracy is:  82.01523140011716 %\n"
     ]
    }
   ],
   "source": [
    "svc.fit(main_data[:90], targets[:90])\n",
    "prediction = svc.predict(main_data[90:])\n",
    "ac_5 = accuracy_score(targets[90:] , prediction)*100\n",
    "print(\"Accuracy is: \", ac_5,\"%\")"
   ]
  },
  {
   "cell_type": "markdown",
   "id": "15b458ad",
   "metadata": {},
   "source": [
    "### The accuracy for 80:20 division is 82.02 %"
   ]
  },
  {
   "cell_type": "markdown",
   "id": "879af80f",
   "metadata": {},
   "source": [
    "## Overall Conclusion\n",
    "\n",
    "The accuracy will be much better when more data is used for training purposes, before testing the model. \n"
   ]
  },
  {
   "cell_type": "code",
   "execution_count": 34,
   "id": "b6760d48",
   "metadata": {
    "scrolled": false
   },
   "outputs": [
    {
     "data": {
      "image/png": "[encoded data removed]",
      "text/plain": [
       "<Figure size 500x500 with 1 Axes>"
      ]
     },
     "metadata": {
      "needs_background": "light"
     },
     "output_type": "display_data"
    }
   ],
   "source": [
    "from matplotlib.pyplot import figure\n",
    "\n",
    "figure(figsize=(5, 5), dpi=100)\n",
    "\n",
    "ac_list = {\"0.33%-99.66%\":ac_1,\"75%-25%\":ac_2,\"50%-50%\":ac_3,\n",
    "           \"20%-80%\":ac_4,\"5%-95%\":ac_5}\n",
    "names = list(ac_list.keys())\n",
    "values = list(ac_list.values())\n",
    "plt.bar(range(len(ac_list)), values, tick_label=names)\n",
    "plt.xticks(rotation = 45)\n",
    "plt.xlabel(\"Division of Data\")\n",
    "plt.ylabel(\"Accuracy in %\")\n",
    "plt.show()"
   ]
  },
  {
   "cell_type": "code",
   "execution_count": null,
   "id": "64ead38a",
   "metadata": {},
   "outputs": [],
   "source": []
  }
 ],
 "metadata": {
  "kernelspec": {
   "display_name": "Python 3 (ipykernel)",
   "language": "python",
   "name": "python3"
  },
  "language_info": {
   "codemirror_mode": {
    "name": "ipython",
    "version": 3
   },
   "file_extension": ".py",
   "mimetype": "text/x-python",
   "name": "python",
   "nbconvert_exporter": "python",
   "pygments_lexer": "ipython3",
   "version": "3.9.7"
  }
 },
 "nbformat": 4,
 "nbformat_minor": 5
}
